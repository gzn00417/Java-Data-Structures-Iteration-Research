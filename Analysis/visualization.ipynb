{
 "nbformat": 4,
 "nbformat_minor": 2,
 "metadata": {
  "language_info": {
   "name": "python",
   "codemirror_mode": {
    "name": "ipython",
    "version": 3
   },
   "version": "3.6.8-final"
  },
  "orig_nbformat": 2,
  "file_extension": ".py",
  "mimetype": "text/x-python",
  "name": "python",
  "npconvert_exporter": "python",
  "pygments_lexer": "ipython3",
  "version": 3,
  "kernelspec": {
   "name": "python36864bit2eb17439148c485399fa2f77fed1b772",
   "display_name": "Python 3.6.8 64-bit"
  }
 },
 "cells": [
  {
   "cell_type": "code",
   "execution_count": null,
   "metadata": {},
   "outputs": [],
   "source": [
    "import pandas as pd\n",
    "import numpy as np\n",
    "from matplotlib import pyplot as plt\n",
    "import seaborn as sns\n",
    "%matplotlib inline"
   ]
  },
  {
   "cell_type": "code",
   "execution_count": null,
   "metadata": {},
   "outputs": [],
   "source": [
    "# 10^9\n",
    "f, ax= plt.subplots()\n",
    "ArrayList = pd.read_csv(\"../csv/ArrayList.csv\")\n",
    "sns.barplot(data=ArrayList)\n",
    "ax.set_title(\"ArrayList\")\n",
    "plt.show()\n",
    "f, ax= plt.subplots()\n",
    "sns.lineplot(data=ArrayList)\n",
    "ax.set_title(\"ArrayList\")\n",
    "plt.ylim(0.5, 1.0)"
   ]
  },
  {
   "cell_type": "code",
   "execution_count": null,
   "metadata": {},
   "outputs": [],
   "source": [
    "# 10^7\n",
    "f, ax= plt.subplots()\n",
    "HashMap = pd.read_csv(\"../csv/HashMap.csv\")\n",
    "sns.barplot(data=HashMap)\n",
    "ax.set_title(\"HashMap\")\n",
    "plt.show()\n",
    "f, ax= plt.subplots()\n",
    "sns.lineplot(data=HashMap)\n",
    "ax.set_title(\"HashMap\")\n",
    "plt.ylim(0.3, 0.8)"
   ]
  },
  {
   "cell_type": "code",
   "execution_count": null,
   "metadata": {},
   "outputs": [],
   "source": [
    "# 10^12\n",
    "f, ax= plt.subplots()\n",
    "HashSet = pd.read_csv(\"../csv/HashSet.csv\")\n",
    "sns.barplot(data=HashSet)\n",
    "ax.set_title(\"HashSet\")\n",
    "plt.show()\n",
    "f, ax= plt.subplots()\n",
    "sns.lineplot(data=HashSet)\n",
    "ax.set_title(\"HashSet\")\n",
    "plt.ylim(2.2, 3.6)"
   ]
  },
  {
   "cell_type": "code",
   "execution_count": null,
   "metadata": {},
   "outputs": [],
   "source": [
    "# 10^5\n",
    "f, ax= plt.subplots()\n",
    "LinkedList = pd.read_csv(\"../csv/LinkedList.csv\")\n",
    "sns.barplot(data=LinkedList)\n",
    "ax.set_title(\"LinkedList\")\n",
    "plt.show()\n",
    "f, ax= plt.subplots()\n",
    "sns.lineplot(data=LinkedList)\n",
    "ax.set_title(\"LinkedList\")\n",
    "plt.ylim(1.6, 2.2)"
   ]
  },
  {
   "cell_type": "code",
   "execution_count": null,
   "metadata": {},
   "outputs": [],
   "source": [
    "Base = 0\n",
    "\n",
    "ArrayList /= 10**(Base-8)\n",
    "ArrayList['Type'] = 'ArrayList'     # 8\n",
    "\n",
    "HashMap /= 10**(Base-7)\n",
    "HashMap['Type'] = 'HashMap'         # 7\n",
    "\n",
    "HashSet /= 10**(Base-8)\n",
    "HashSet['Type'] = 'HashSet'         # 8\n",
    "\n",
    "LinkedList /= 10**(Base-8)\n",
    "LinkedList['Type'] = 'LinkedList'  # 8\n",
    "\n",
    "data = pd.concat([ArrayList, HashMap, HashSet, LinkedList], ignore_index=True).drop(['FOR'], axis=1)\n",
    "data[['Explicit_Iteration', 'Inner_Iteration']] = np.log10(data[['Explicit_Iteration', 'Inner_Iteration']])\n",
    "data.info()"
   ]
  },
  {
   "cell_type": "code",
   "execution_count": null,
   "metadata": {},
   "outputs": [],
   "source": [
    "f, ax= plt.subplots()\n",
    "sns.barplot(x='Type', y='Explicit_Iteration', data=data)\n",
    "ax.set_title(\"Explicit_Iteration\")"
   ]
  },
  {
   "cell_type": "code",
   "execution_count": null,
   "metadata": {},
   "outputs": [],
   "source": [
    "f, ax= plt.subplots()\n",
    "sns.barplot(x='Type', y='Inner_Iteration', data=data)\n",
    "ax.set_title(\"Inner_Iteration\")"
   ]
  },
  {
   "cell_type": "code",
   "execution_count": null,
   "metadata": {},
   "outputs": [],
   "source": []
  }
 ]
}